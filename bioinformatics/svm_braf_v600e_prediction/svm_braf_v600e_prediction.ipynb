{
  "cells": [
    {
      "cell_type": "markdown",
      "metadata": {
        "colab_type": "text",
        "id": "view-in-github"
      },
      "source": [
        "<a href=\"https://colab.research.google.com/github/tntly/ml-projects/blob/main/CS_123_Final_Project_SVM_Model_BRAF.ipynb\" target=\"_parent\"><img src=\"https://colab.research.google.com/assets/colab-badge.svg\" alt=\"Open In Colab\"/></a>"
      ]
    },
    {
      "cell_type": "markdown",
      "metadata": {
        "id": "UWF56xDyq6nh"
      },
      "source": [
        "# Support Vector Machine (SVM) Prediction of BRAF V600E Inhibitors\n",
        "\n",
        "> Author: Tien Ly  \n",
        "> CS/BIOL 123A: Bioinformatics I - Fall 2023 at San Jose State University\n",
        "\n",
        "This project uses Support Vector Machines (SVM) to predict small molecules that may inhibit the BRAF-V600E mutation, a key target in cancer therapy. The model is trained on a dataset of 243 compounds from the PubChem Compound database and evaluated using accuracy, precision, recall, and ROC curve analysis to assess predictive performance. The goal is to contribute to drug discovery by improving the identification of potential inhibitors with greater efficiency and precision."
      ]
    },
    {
      "cell_type": "markdown",
      "metadata": {
        "id": "C36dwtzcrOf4"
      },
      "source": [
        "## Data Exploration"
      ]
    },
    {
      "cell_type": "code",
      "execution_count": null,
      "metadata": {
        "id": "jdFqa0_pWuKb"
      },
      "outputs": [],
      "source": [
        "# Import necessary libraries\n",
        "import numpy as np\n",
        "import pandas as pd\n",
        "import matplotlib.pyplot as plt\n",
        "import seaborn as sns"
      ]
    },
    {
      "cell_type": "code",
      "execution_count": null,
      "metadata": {
        "colab": {
          "base_uri": "https://localhost:8080/",
          "height": 444
        },
        "id": "lIiLVxQTW-ml",
        "outputId": "3ac1b583-5466-427e-ee27-f60eaae61c59"
      },
      "outputs": [
        {
          "data": {
            "text/html": [
              "\n",
              "  <div id=\"df-4665fef6-9331-46a9-a04f-11c864ba8b1f\" class=\"colab-df-container\">\n",
              "    <div>\n",
              "<style scoped>\n",
              "    .dataframe tbody tr th:only-of-type {\n",
              "        vertical-align: middle;\n",
              "    }\n",
              "\n",
              "    .dataframe tbody tr th {\n",
              "        vertical-align: top;\n",
              "    }\n",
              "\n",
              "    .dataframe thead th {\n",
              "        text-align: right;\n",
              "    }\n",
              "</style>\n",
              "<table border=\"1\" class=\"dataframe\">\n",
              "  <thead>\n",
              "    <tr style=\"text-align: right;\">\n",
              "      <th></th>\n",
              "      <th>CID</th>\n",
              "      <th>Class</th>\n",
              "      <th>PUBCHEM_XLOGP3_AA</th>\n",
              "      <th>PUBCHEM_EXACT_MASS</th>\n",
              "      <th>PUBCHEM_MOLECULAR_WEIGHT</th>\n",
              "      <th>PUBCHEM_CACTVS_TPSA</th>\n",
              "      <th>PUBCHEM_MONOISOTOPIC_WEIGHT</th>\n",
              "      <th>PUBCHEM_TOTAL_CHARGE</th>\n",
              "      <th>PUBCHEM_HEAVY_ATOM_COUNT</th>\n",
              "      <th>PUBCHEM_ATOM_DEF_STEREO_COUNT</th>\n",
              "      <th>...</th>\n",
              "      <th>vsurf_Wp3</th>\n",
              "      <th>vsurf_Wp4</th>\n",
              "      <th>vsurf_Wp5</th>\n",
              "      <th>vsurf_Wp6</th>\n",
              "      <th>vsurf_Wp7</th>\n",
              "      <th>vsurf_Wp8</th>\n",
              "      <th>Weight</th>\n",
              "      <th>weinerPath</th>\n",
              "      <th>weinerPol</th>\n",
              "      <th>zagreb</th>\n",
              "    </tr>\n",
              "  </thead>\n",
              "  <tbody>\n",
              "    <tr>\n",
              "      <th>0</th>\n",
              "      <td>11574718</td>\n",
              "      <td>0</td>\n",
              "      <td>3.1</td>\n",
              "      <td>393.16885</td>\n",
              "      <td>393.43573</td>\n",
              "      <td>81.699997</td>\n",
              "      <td>393.16885</td>\n",
              "      <td>0</td>\n",
              "      <td>29</td>\n",
              "      <td>0</td>\n",
              "      <td>...</td>\n",
              "      <td>113.500</td>\n",
              "      <td>23.875</td>\n",
              "      <td>7.375</td>\n",
              "      <td>0.250</td>\n",
              "      <td>0.0</td>\n",
              "      <td>0.0</td>\n",
              "      <td>393.44299</td>\n",
              "      <td>2450</td>\n",
              "      <td>45</td>\n",
              "      <td>146</td>\n",
              "    </tr>\n",
              "    <tr>\n",
              "      <th>1</th>\n",
              "      <td>11588394</td>\n",
              "      <td>0</td>\n",
              "      <td>2.0</td>\n",
              "      <td>353.13754</td>\n",
              "      <td>353.37186</td>\n",
              "      <td>81.199997</td>\n",
              "      <td>353.13754</td>\n",
              "      <td>0</td>\n",
              "      <td>26</td>\n",
              "      <td>0</td>\n",
              "      <td>...</td>\n",
              "      <td>112.250</td>\n",
              "      <td>27.250</td>\n",
              "      <td>8.750</td>\n",
              "      <td>1.625</td>\n",
              "      <td>0.0</td>\n",
              "      <td>0.0</td>\n",
              "      <td>353.37799</td>\n",
              "      <td>1786</td>\n",
              "      <td>41</td>\n",
              "      <td>132</td>\n",
              "    </tr>\n",
              "    <tr>\n",
              "      <th>2</th>\n",
              "      <td>11595532</td>\n",
              "      <td>0</td>\n",
              "      <td>2.9</td>\n",
              "      <td>353.13754</td>\n",
              "      <td>353.37186</td>\n",
              "      <td>85.699997</td>\n",
              "      <td>353.13754</td>\n",
              "      <td>0</td>\n",
              "      <td>26</td>\n",
              "      <td>0</td>\n",
              "      <td>...</td>\n",
              "      <td>101.500</td>\n",
              "      <td>22.125</td>\n",
              "      <td>6.500</td>\n",
              "      <td>0.375</td>\n",
              "      <td>0.0</td>\n",
              "      <td>0.0</td>\n",
              "      <td>353.37799</td>\n",
              "      <td>1767</td>\n",
              "      <td>41</td>\n",
              "      <td>132</td>\n",
              "    </tr>\n",
              "    <tr>\n",
              "      <th>3</th>\n",
              "      <td>11603925</td>\n",
              "      <td>0</td>\n",
              "      <td>3.5</td>\n",
              "      <td>409.16376</td>\n",
              "      <td>409.43512</td>\n",
              "      <td>91.800003</td>\n",
              "      <td>409.16376</td>\n",
              "      <td>0</td>\n",
              "      <td>30</td>\n",
              "      <td>0</td>\n",
              "      <td>...</td>\n",
              "      <td>94.750</td>\n",
              "      <td>15.375</td>\n",
              "      <td>5.000</td>\n",
              "      <td>0.375</td>\n",
              "      <td>0.0</td>\n",
              "      <td>0.0</td>\n",
              "      <td>409.44199</td>\n",
              "      <td>2694</td>\n",
              "      <td>48</td>\n",
              "      <td>150</td>\n",
              "    </tr>\n",
              "    <tr>\n",
              "      <th>4</th>\n",
              "      <td>11624721</td>\n",
              "      <td>0</td>\n",
              "      <td>3.0</td>\n",
              "      <td>362.13788</td>\n",
              "      <td>362.38193</td>\n",
              "      <td>89.300003</td>\n",
              "      <td>362.13788</td>\n",
              "      <td>0</td>\n",
              "      <td>27</td>\n",
              "      <td>0</td>\n",
              "      <td>...</td>\n",
              "      <td>98.750</td>\n",
              "      <td>15.750</td>\n",
              "      <td>5.000</td>\n",
              "      <td>0.375</td>\n",
              "      <td>0.0</td>\n",
              "      <td>0.0</td>\n",
              "      <td>362.38898</td>\n",
              "      <td>1976</td>\n",
              "      <td>43</td>\n",
              "      <td>136</td>\n",
              "    </tr>\n",
              "    <tr>\n",
              "      <th>...</th>\n",
              "      <td>...</td>\n",
              "      <td>...</td>\n",
              "      <td>...</td>\n",
              "      <td>...</td>\n",
              "      <td>...</td>\n",
              "      <td>...</td>\n",
              "      <td>...</td>\n",
              "      <td>...</td>\n",
              "      <td>...</td>\n",
              "      <td>...</td>\n",
              "      <td>...</td>\n",
              "      <td>...</td>\n",
              "      <td>...</td>\n",
              "      <td>...</td>\n",
              "      <td>...</td>\n",
              "      <td>...</td>\n",
              "      <td>...</td>\n",
              "      <td>...</td>\n",
              "      <td>...</td>\n",
              "      <td>...</td>\n",
              "      <td>...</td>\n",
              "    </tr>\n",
              "    <tr>\n",
              "      <th>238</th>\n",
              "      <td>86766662</td>\n",
              "      <td>1</td>\n",
              "      <td>4.0</td>\n",
              "      <td>453.11584</td>\n",
              "      <td>453.48599</td>\n",
              "      <td>109.000000</td>\n",
              "      <td>453.11584</td>\n",
              "      <td>0</td>\n",
              "      <td>32</td>\n",
              "      <td>0</td>\n",
              "      <td>...</td>\n",
              "      <td>138.125</td>\n",
              "      <td>25.375</td>\n",
              "      <td>7.375</td>\n",
              "      <td>0.875</td>\n",
              "      <td>0.0</td>\n",
              "      <td>0.0</td>\n",
              "      <td>453.49399</td>\n",
              "      <td>3065</td>\n",
              "      <td>52</td>\n",
              "      <td>172</td>\n",
              "    </tr>\n",
              "    <tr>\n",
              "      <th>239</th>\n",
              "      <td>86766668</td>\n",
              "      <td>1</td>\n",
              "      <td>4.9</td>\n",
              "      <td>379.11322</td>\n",
              "      <td>379.35950</td>\n",
              "      <td>67.300003</td>\n",
              "      <td>379.11322</td>\n",
              "      <td>0</td>\n",
              "      <td>28</td>\n",
              "      <td>0</td>\n",
              "      <td>...</td>\n",
              "      <td>98.125</td>\n",
              "      <td>17.250</td>\n",
              "      <td>4.875</td>\n",
              "      <td>0.375</td>\n",
              "      <td>0.0</td>\n",
              "      <td>0.0</td>\n",
              "      <td>379.36600</td>\n",
              "      <td>2055</td>\n",
              "      <td>48</td>\n",
              "      <td>150</td>\n",
              "    </tr>\n",
              "    <tr>\n",
              "      <th>240</th>\n",
              "      <td>86766679</td>\n",
              "      <td>1</td>\n",
              "      <td>4.6</td>\n",
              "      <td>367.14331</td>\n",
              "      <td>367.40329</td>\n",
              "      <td>75.699997</td>\n",
              "      <td>367.14331</td>\n",
              "      <td>0</td>\n",
              "      <td>28</td>\n",
              "      <td>0</td>\n",
              "      <td>...</td>\n",
              "      <td>117.375</td>\n",
              "      <td>22.250</td>\n",
              "      <td>5.750</td>\n",
              "      <td>0.375</td>\n",
              "      <td>0.0</td>\n",
              "      <td>0.0</td>\n",
              "      <td>367.41199</td>\n",
              "      <td>2096</td>\n",
              "      <td>46</td>\n",
              "      <td>154</td>\n",
              "    </tr>\n",
              "    <tr>\n",
              "      <th>241</th>\n",
              "      <td>86766683</td>\n",
              "      <td>1</td>\n",
              "      <td>4.6</td>\n",
              "      <td>344.11609</td>\n",
              "      <td>344.36334</td>\n",
              "      <td>64.500000</td>\n",
              "      <td>344.11609</td>\n",
              "      <td>0</td>\n",
              "      <td>26</td>\n",
              "      <td>0</td>\n",
              "      <td>...</td>\n",
              "      <td>71.750</td>\n",
              "      <td>5.125</td>\n",
              "      <td>1.125</td>\n",
              "      <td>0.000</td>\n",
              "      <td>0.0</td>\n",
              "      <td>0.0</td>\n",
              "      <td>344.37000</td>\n",
              "      <td>1748</td>\n",
              "      <td>41</td>\n",
              "      <td>138</td>\n",
              "    </tr>\n",
              "    <tr>\n",
              "      <th>242</th>\n",
              "      <td>86766693</td>\n",
              "      <td>1</td>\n",
              "      <td>5.5</td>\n",
              "      <td>383.06369</td>\n",
              "      <td>383.77859</td>\n",
              "      <td>58.000000</td>\n",
              "      <td>383.06369</td>\n",
              "      <td>0</td>\n",
              "      <td>27</td>\n",
              "      <td>0</td>\n",
              "      <td>...</td>\n",
              "      <td>85.375</td>\n",
              "      <td>13.750</td>\n",
              "      <td>4.250</td>\n",
              "      <td>0.625</td>\n",
              "      <td>0.0</td>\n",
              "      <td>0.0</td>\n",
              "      <td>383.78500</td>\n",
              "      <td>1884</td>\n",
              "      <td>46</td>\n",
              "      <td>146</td>\n",
              "    </tr>\n",
              "  </tbody>\n",
              "</table>\n",
              "<p>243 rows × 357 columns</p>\n",
              "</div>\n",
              "    <div class=\"colab-df-buttons\">\n",
              "\n",
              "  <div class=\"colab-df-container\">\n",
              "    <button class=\"colab-df-convert\" onclick=\"convertToInteractive('df-4665fef6-9331-46a9-a04f-11c864ba8b1f')\"\n",
              "            title=\"Convert this dataframe to an interactive table.\"\n",
              "            style=\"display:none;\">\n",
              "\n",
              "  <svg xmlns=\"http://www.w3.org/2000/svg\" height=\"24px\" viewBox=\"0 -960 960 960\">\n",
              "    <path d=\"M120-120v-720h720v720H120Zm60-500h600v-160H180v160Zm220 220h160v-160H400v160Zm0 220h160v-160H400v160ZM180-400h160v-160H180v160Zm440 0h160v-160H620v160ZM180-180h160v-160H180v160Zm440 0h160v-160H620v160Z\"/>\n",
              "  </svg>\n",
              "    </button>\n",
              "\n",
              "  <style>\n",
              "    .colab-df-container {\n",
              "      display:flex;\n",
              "      gap: 12px;\n",
              "    }\n",
              "\n",
              "    .colab-df-convert {\n",
              "      background-color: #E8F0FE;\n",
              "      border: none;\n",
              "      border-radius: 50%;\n",
              "      cursor: pointer;\n",
              "      display: none;\n",
              "      fill: #1967D2;\n",
              "      height: 32px;\n",
              "      padding: 0 0 0 0;\n",
              "      width: 32px;\n",
              "    }\n",
              "\n",
              "    .colab-df-convert:hover {\n",
              "      background-color: #E2EBFA;\n",
              "      box-shadow: 0px 1px 2px rgba(60, 64, 67, 0.3), 0px 1px 3px 1px rgba(60, 64, 67, 0.15);\n",
              "      fill: #174EA6;\n",
              "    }\n",
              "\n",
              "    .colab-df-buttons div {\n",
              "      margin-bottom: 4px;\n",
              "    }\n",
              "\n",
              "    [theme=dark] .colab-df-convert {\n",
              "      background-color: #3B4455;\n",
              "      fill: #D2E3FC;\n",
              "    }\n",
              "\n",
              "    [theme=dark] .colab-df-convert:hover {\n",
              "      background-color: #434B5C;\n",
              "      box-shadow: 0px 1px 3px 1px rgba(0, 0, 0, 0.15);\n",
              "      filter: drop-shadow(0px 1px 2px rgba(0, 0, 0, 0.3));\n",
              "      fill: #FFFFFF;\n",
              "    }\n",
              "  </style>\n",
              "\n",
              "    <script>\n",
              "      const buttonEl =\n",
              "        document.querySelector('#df-4665fef6-9331-46a9-a04f-11c864ba8b1f button.colab-df-convert');\n",
              "      buttonEl.style.display =\n",
              "        google.colab.kernel.accessAllowed ? 'block' : 'none';\n",
              "\n",
              "      async function convertToInteractive(key) {\n",
              "        const element = document.querySelector('#df-4665fef6-9331-46a9-a04f-11c864ba8b1f');\n",
              "        const dataTable =\n",
              "          await google.colab.kernel.invokeFunction('convertToInteractive',\n",
              "                                                    [key], {});\n",
              "        if (!dataTable) return;\n",
              "\n",
              "        const docLinkHtml = 'Like what you see? Visit the ' +\n",
              "          '<a target=\"_blank\" href=https://colab.research.google.com/notebooks/data_table.ipynb>data table notebook</a>'\n",
              "          + ' to learn more about interactive tables.';\n",
              "        element.innerHTML = '';\n",
              "        dataTable['output_type'] = 'display_data';\n",
              "        await google.colab.output.renderOutput(dataTable, element);\n",
              "        const docLink = document.createElement('div');\n",
              "        docLink.innerHTML = docLinkHtml;\n",
              "        element.appendChild(docLink);\n",
              "      }\n",
              "    </script>\n",
              "  </div>\n",
              "\n",
              "\n",
              "<div id=\"df-31888c33-0bb1-4476-8979-3220c3cfa3a5\">\n",
              "  <button class=\"colab-df-quickchart\" onclick=\"quickchart('df-31888c33-0bb1-4476-8979-3220c3cfa3a5')\"\n",
              "            title=\"Suggest charts\"\n",
              "            style=\"display:none;\">\n",
              "\n",
              "<svg xmlns=\"http://www.w3.org/2000/svg\" height=\"24px\"viewBox=\"0 0 24 24\"\n",
              "     width=\"24px\">\n",
              "    <g>\n",
              "        <path d=\"M19 3H5c-1.1 0-2 .9-2 2v14c0 1.1.9 2 2 2h14c1.1 0 2-.9 2-2V5c0-1.1-.9-2-2-2zM9 17H7v-7h2v7zm4 0h-2V7h2v10zm4 0h-2v-4h2v4z\"/>\n",
              "    </g>\n",
              "</svg>\n",
              "  </button>\n",
              "\n",
              "<style>\n",
              "  .colab-df-quickchart {\n",
              "      --bg-color: #E8F0FE;\n",
              "      --fill-color: #1967D2;\n",
              "      --hover-bg-color: #E2EBFA;\n",
              "      --hover-fill-color: #174EA6;\n",
              "      --disabled-fill-color: #AAA;\n",
              "      --disabled-bg-color: #DDD;\n",
              "  }\n",
              "\n",
              "  [theme=dark] .colab-df-quickchart {\n",
              "      --bg-color: #3B4455;\n",
              "      --fill-color: #D2E3FC;\n",
              "      --hover-bg-color: #434B5C;\n",
              "      --hover-fill-color: #FFFFFF;\n",
              "      --disabled-bg-color: #3B4455;\n",
              "      --disabled-fill-color: #666;\n",
              "  }\n",
              "\n",
              "  .colab-df-quickchart {\n",
              "    background-color: var(--bg-color);\n",
              "    border: none;\n",
              "    border-radius: 50%;\n",
              "    cursor: pointer;\n",
              "    display: none;\n",
              "    fill: var(--fill-color);\n",
              "    height: 32px;\n",
              "    padding: 0;\n",
              "    width: 32px;\n",
              "  }\n",
              "\n",
              "  .colab-df-quickchart:hover {\n",
              "    background-color: var(--hover-bg-color);\n",
              "    box-shadow: 0 1px 2px rgba(60, 64, 67, 0.3), 0 1px 3px 1px rgba(60, 64, 67, 0.15);\n",
              "    fill: var(--button-hover-fill-color);\n",
              "  }\n",
              "\n",
              "  .colab-df-quickchart-complete:disabled,\n",
              "  .colab-df-quickchart-complete:disabled:hover {\n",
              "    background-color: var(--disabled-bg-color);\n",
              "    fill: var(--disabled-fill-color);\n",
              "    box-shadow: none;\n",
              "  }\n",
              "\n",
              "  .colab-df-spinner {\n",
              "    border: 2px solid var(--fill-color);\n",
              "    border-color: transparent;\n",
              "    border-bottom-color: var(--fill-color);\n",
              "    animation:\n",
              "      spin 1s steps(1) infinite;\n",
              "  }\n",
              "\n",
              "  @keyframes spin {\n",
              "    0% {\n",
              "      border-color: transparent;\n",
              "      border-bottom-color: var(--fill-color);\n",
              "      border-left-color: var(--fill-color);\n",
              "    }\n",
              "    20% {\n",
              "      border-color: transparent;\n",
              "      border-left-color: var(--fill-color);\n",
              "      border-top-color: var(--fill-color);\n",
              "    }\n",
              "    30% {\n",
              "      border-color: transparent;\n",
              "      border-left-color: var(--fill-color);\n",
              "      border-top-color: var(--fill-color);\n",
              "      border-right-color: var(--fill-color);\n",
              "    }\n",
              "    40% {\n",
              "      border-color: transparent;\n",
              "      border-right-color: var(--fill-color);\n",
              "      border-top-color: var(--fill-color);\n",
              "    }\n",
              "    60% {\n",
              "      border-color: transparent;\n",
              "      border-right-color: var(--fill-color);\n",
              "    }\n",
              "    80% {\n",
              "      border-color: transparent;\n",
              "      border-right-color: var(--fill-color);\n",
              "      border-bottom-color: var(--fill-color);\n",
              "    }\n",
              "    90% {\n",
              "      border-color: transparent;\n",
              "      border-bottom-color: var(--fill-color);\n",
              "    }\n",
              "  }\n",
              "</style>\n",
              "\n",
              "  <script>\n",
              "    async function quickchart(key) {\n",
              "      const quickchartButtonEl =\n",
              "        document.querySelector('#' + key + ' button');\n",
              "      quickchartButtonEl.disabled = true;  // To prevent multiple clicks.\n",
              "      quickchartButtonEl.classList.add('colab-df-spinner');\n",
              "      try {\n",
              "        const charts = await google.colab.kernel.invokeFunction(\n",
              "            'suggestCharts', [key], {});\n",
              "      } catch (error) {\n",
              "        console.error('Error during call to suggestCharts:', error);\n",
              "      }\n",
              "      quickchartButtonEl.classList.remove('colab-df-spinner');\n",
              "      quickchartButtonEl.classList.add('colab-df-quickchart-complete');\n",
              "    }\n",
              "    (() => {\n",
              "      let quickchartButtonEl =\n",
              "        document.querySelector('#df-31888c33-0bb1-4476-8979-3220c3cfa3a5 button');\n",
              "      quickchartButtonEl.style.display =\n",
              "        google.colab.kernel.accessAllowed ? 'block' : 'none';\n",
              "    })();\n",
              "  </script>\n",
              "</div>\n",
              "    </div>\n",
              "  </div>\n"
            ],
            "text/plain": [
              "          CID  Class  PUBCHEM_XLOGP3_AA  PUBCHEM_EXACT_MASS  \\\n",
              "0    11574718      0                3.1           393.16885   \n",
              "1    11588394      0                2.0           353.13754   \n",
              "2    11595532      0                2.9           353.13754   \n",
              "3    11603925      0                3.5           409.16376   \n",
              "4    11624721      0                3.0           362.13788   \n",
              "..        ...    ...                ...                 ...   \n",
              "238  86766662      1                4.0           453.11584   \n",
              "239  86766668      1                4.9           379.11322   \n",
              "240  86766679      1                4.6           367.14331   \n",
              "241  86766683      1                4.6           344.11609   \n",
              "242  86766693      1                5.5           383.06369   \n",
              "\n",
              "     PUBCHEM_MOLECULAR_WEIGHT  PUBCHEM_CACTVS_TPSA  \\\n",
              "0                   393.43573            81.699997   \n",
              "1                   353.37186            81.199997   \n",
              "2                   353.37186            85.699997   \n",
              "3                   409.43512            91.800003   \n",
              "4                   362.38193            89.300003   \n",
              "..                        ...                  ...   \n",
              "238                 453.48599           109.000000   \n",
              "239                 379.35950            67.300003   \n",
              "240                 367.40329            75.699997   \n",
              "241                 344.36334            64.500000   \n",
              "242                 383.77859            58.000000   \n",
              "\n",
              "     PUBCHEM_MONOISOTOPIC_WEIGHT  PUBCHEM_TOTAL_CHARGE  \\\n",
              "0                      393.16885                     0   \n",
              "1                      353.13754                     0   \n",
              "2                      353.13754                     0   \n",
              "3                      409.16376                     0   \n",
              "4                      362.13788                     0   \n",
              "..                           ...                   ...   \n",
              "238                    453.11584                     0   \n",
              "239                    379.11322                     0   \n",
              "240                    367.14331                     0   \n",
              "241                    344.11609                     0   \n",
              "242                    383.06369                     0   \n",
              "\n",
              "     PUBCHEM_HEAVY_ATOM_COUNT  PUBCHEM_ATOM_DEF_STEREO_COUNT  ...  vsurf_Wp3  \\\n",
              "0                          29                              0  ...    113.500   \n",
              "1                          26                              0  ...    112.250   \n",
              "2                          26                              0  ...    101.500   \n",
              "3                          30                              0  ...     94.750   \n",
              "4                          27                              0  ...     98.750   \n",
              "..                        ...                            ...  ...        ...   \n",
              "238                        32                              0  ...    138.125   \n",
              "239                        28                              0  ...     98.125   \n",
              "240                        28                              0  ...    117.375   \n",
              "241                        26                              0  ...     71.750   \n",
              "242                        27                              0  ...     85.375   \n",
              "\n",
              "     vsurf_Wp4  vsurf_Wp5  vsurf_Wp6  vsurf_Wp7  vsurf_Wp8     Weight  \\\n",
              "0       23.875      7.375      0.250        0.0        0.0  393.44299   \n",
              "1       27.250      8.750      1.625        0.0        0.0  353.37799   \n",
              "2       22.125      6.500      0.375        0.0        0.0  353.37799   \n",
              "3       15.375      5.000      0.375        0.0        0.0  409.44199   \n",
              "4       15.750      5.000      0.375        0.0        0.0  362.38898   \n",
              "..         ...        ...        ...        ...        ...        ...   \n",
              "238     25.375      7.375      0.875        0.0        0.0  453.49399   \n",
              "239     17.250      4.875      0.375        0.0        0.0  379.36600   \n",
              "240     22.250      5.750      0.375        0.0        0.0  367.41199   \n",
              "241      5.125      1.125      0.000        0.0        0.0  344.37000   \n",
              "242     13.750      4.250      0.625        0.0        0.0  383.78500   \n",
              "\n",
              "     weinerPath  weinerPol  zagreb  \n",
              "0          2450         45     146  \n",
              "1          1786         41     132  \n",
              "2          1767         41     132  \n",
              "3          2694         48     150  \n",
              "4          1976         43     136  \n",
              "..          ...        ...     ...  \n",
              "238        3065         52     172  \n",
              "239        2055         48     150  \n",
              "240        2096         46     154  \n",
              "241        1748         41     138  \n",
              "242        1884         46     146  \n",
              "\n",
              "[243 rows x 357 columns]"
            ]
          },
          "execution_count": 3,
          "metadata": {},
          "output_type": "execute_result"
        }
      ],
      "source": [
        "# Load data from Google Sheets\n",
        "starting_url = 'https://docs.google.com/spreadsheets/d/1pOjJyjIr-bJt29cNMPZahalHbCyU7L_bZ64EZdTBNb4/edit?usp=sharing'\n",
        "new_url = starting_url.replace('edit?usp=sharing', 'export?format=csv')\n",
        "compounds = pd.read_csv(new_url)\n",
        "compounds"
      ]
    },
    {
      "cell_type": "code",
      "execution_count": null,
      "metadata": {
        "colab": {
          "base_uri": "https://localhost:8080/"
        },
        "id": "TqUjCCVIp8X8",
        "outputId": "b9ee87dc-33d2-4578-96ae-4441f552063e"
      },
      "outputs": [
        {
          "data": {
            "text/plain": [
              "1    0.703704\n",
              "0    0.296296\n",
              "Name: Class, dtype: float64"
            ]
          },
          "execution_count": 4,
          "metadata": {},
          "output_type": "execute_result"
        }
      ],
      "source": [
        "# Display class distribution\n",
        "compounds.Class.value_counts() / len(compounds)"
      ]
    },
    {
      "cell_type": "code",
      "execution_count": null,
      "metadata": {
        "colab": {
          "base_uri": "https://localhost:8080/"
        },
        "id": "-GDJU-k8rgRW",
        "outputId": "784c3d61-123a-4eed-8888-7adbabf46ad5"
      },
      "outputs": [
        {
          "data": {
            "text/plain": [
              "1    171\n",
              "0     72\n",
              "Name: Class, dtype: int64"
            ]
          },
          "execution_count": 5,
          "metadata": {},
          "output_type": "execute_result"
        }
      ],
      "source": [
        "compounds.Class.value_counts()"
      ]
    },
    {
      "cell_type": "code",
      "execution_count": null,
      "metadata": {
        "colab": {
          "base_uri": "https://localhost:8080/"
        },
        "id": "hZo7qYh2X291",
        "outputId": "a92da0f1-4376-47cc-b73e-8ba0a1100c66"
      },
      "outputs": [
        {
          "name": "stdout",
          "output_type": "stream",
          "text": [
            "<class 'pandas.core.frame.DataFrame'>\n",
            "RangeIndex: 243 entries, 0 to 242\n",
            "Data columns (total 357 columns):\n",
            " #    Column                          Non-Null Count  Dtype  \n",
            "---   ------                          --------------  -----  \n",
            " 0    CID                             243 non-null    int64  \n",
            " 1    Class                           243 non-null    int64  \n",
            " 2    PUBCHEM_XLOGP3_AA               243 non-null    float64\n",
            " 3    PUBCHEM_EXACT_MASS              243 non-null    float64\n",
            " 4    PUBCHEM_MOLECULAR_WEIGHT        243 non-null    float64\n",
            " 5    PUBCHEM_CACTVS_TPSA             243 non-null    float64\n",
            " 6    PUBCHEM_MONOISOTOPIC_WEIGHT     243 non-null    float64\n",
            " 7    PUBCHEM_TOTAL_CHARGE            243 non-null    int64  \n",
            " 8    PUBCHEM_HEAVY_ATOM_COUNT        243 non-null    int64  \n",
            " 9    PUBCHEM_ATOM_DEF_STEREO_COUNT   243 non-null    int64  \n",
            " 10   PUBCHEM_ATOM_UDEF_STEREO_COUNT  243 non-null    int64  \n",
            " 11   PUBCHEM_BOND_DEF_STEREO_COUNT   243 non-null    int64  \n",
            " 12   PUBCHEM_BOND_UDEF_STEREO_COUNT  243 non-null    int64  \n",
            " 13   PUBCHEM_ISOTOPIC_ATOM_COUNT     243 non-null    int64  \n",
            " 14   PUBCHEM_COMPONENT_COUNT         243 non-null    int64  \n",
            " 15   PUBCHEM_CACTVS_TAUTO_COUNT      243 non-null    int64  \n",
            " 16   PUBCHEM_COORDINATE_TYPE         243 non-null    object \n",
            " 17   AM1_dipole                      243 non-null    float64\n",
            " 18   AM1_E                           243 non-null    float64\n",
            " 19   AM1_Eele                        243 non-null    float64\n",
            " 20   AM1_HF                          243 non-null    float64\n",
            " 21   AM1_HOMO                        243 non-null    float64\n",
            " 22   AM1_IP                          243 non-null    float64\n",
            " 23   AM1_LUMO                        243 non-null    float64\n",
            " 24   apol                            243 non-null    float64\n",
            " 25   ASA                             243 non-null    float64\n",
            " 26   ASA+                            243 non-null    int64  \n",
            " 27   ASA-                            243 non-null    int64  \n",
            " 28   ASA_H                           243 non-null    float64\n",
            " 29   ASA_P                           243 non-null    int64  \n",
            " 30   ast_fraglike                    243 non-null    int64  \n",
            " 31   ast_fraglike_ext                243 non-null    int64  \n",
            " 32   ast_violation                   243 non-null    int64  \n",
            " 33   ast_violation_ext               243 non-null    int64  \n",
            " 34   a_acc                           243 non-null    int64  \n",
            " 35   a_acid                          243 non-null    int64  \n",
            " 36   a_aro                           243 non-null    int64  \n",
            " 37   a_base                          243 non-null    int64  \n",
            " 38   a_count                         243 non-null    int64  \n",
            " 39   a_don                           243 non-null    int64  \n",
            " 40   a_donacc                        243 non-null    int64  \n",
            " 41   a_heavy                         243 non-null    int64  \n",
            " 42   a_hyd                           243 non-null    int64  \n",
            " 43   a_IC                            243 non-null    float64\n",
            " 44   a_ICM                           243 non-null    float64\n",
            " 45   a_nB                            243 non-null    int64  \n",
            " 46   a_nBr                           243 non-null    int64  \n",
            " 47   a_nC                            243 non-null    int64  \n",
            " 48   a_nCl                           243 non-null    int64  \n",
            " 49   a_nF                            243 non-null    int64  \n",
            " 50   a_nH                            243 non-null    int64  \n",
            " 51   a_nI                            243 non-null    int64  \n",
            " 52   a_nN                            243 non-null    int64  \n",
            " 53   a_nO                            243 non-null    int64  \n",
            " 54   a_nP                            243 non-null    int64  \n",
            " 55   a_nS                            243 non-null    int64  \n",
            " 56   balabanJ                        243 non-null    float64\n",
            " 57   BCUT_PEOE_0                     243 non-null    float64\n",
            " 58   BCUT_PEOE_1                     243 non-null    float64\n",
            " 59   BCUT_PEOE_2                     243 non-null    float64\n",
            " 60   BCUT_PEOE_3                     243 non-null    float64\n",
            " 61   BCUT_SLOGP_0                    243 non-null    float64\n",
            " 62   BCUT_SLOGP_1                    243 non-null    float64\n",
            " 63   BCUT_SLOGP_2                    243 non-null    float64\n",
            " 64   BCUT_SLOGP_3                    243 non-null    float64\n",
            " 65   BCUT_SMR_0                      243 non-null    float64\n",
            " 66   BCUT_SMR_1                      243 non-null    float64\n",
            " 67   BCUT_SMR_2                      243 non-null    float64\n",
            " 68   BCUT_SMR_3                      243 non-null    float64\n",
            " 69   bpol                            243 non-null    float64\n",
            " 70   b_1rotN                         243 non-null    int64  \n",
            " 71   b_1rotR                         243 non-null    float64\n",
            " 72   b_ar                            243 non-null    int64  \n",
            " 73   b_count                         243 non-null    int64  \n",
            " 74   b_double                        243 non-null    int64  \n",
            " 75   b_heavy                         243 non-null    int64  \n",
            " 76   b_max1len                       243 non-null    int64  \n",
            " 77   b_rotN                          243 non-null    int64  \n",
            " 78   b_rotR                          243 non-null    float64\n",
            " 79   b_single                        243 non-null    int64  \n",
            " 80   b_triple                        243 non-null    int64  \n",
            " 81   CASA+                           243 non-null    int64  \n",
            " 82   CASA-                           243 non-null    int64  \n",
            " 83   chi0                            243 non-null    float64\n",
            " 84   chi0v                           243 non-null    float64\n",
            " 85   chi0v_C                         243 non-null    float64\n",
            " 86   chi0_C                          243 non-null    float64\n",
            " 87   chi1                            243 non-null    float64\n",
            " 88   chi1v                           243 non-null    float64\n",
            " 89   chi1v_C                         243 non-null    float64\n",
            " 90   chi1_C                          243 non-null    float64\n",
            " 91   chiral                          243 non-null    int64  \n",
            " 92   chiral_u                        243 non-null    int64  \n",
            " 93   DASA                            243 non-null    int64  \n",
            " 94   DCASA                           243 non-null    int64  \n",
            " 95   dens                            243 non-null    float64\n",
            " 96   density                         243 non-null    float64\n",
            " 97   diameter                        243 non-null    int64  \n",
            " 98   dipole                          243 non-null    int64  \n",
            " 99   dipoleX                         243 non-null    int64  \n",
            " 100  dipoleY                         243 non-null    int64  \n",
            " 101  dipoleZ                         243 non-null    int64  \n",
            " 102  E                               243 non-null    float64\n",
            " 103  E_ang                           243 non-null    float64\n",
            " 104  E_ele                           243 non-null    float64\n",
            " 105  E_nb                            243 non-null    float64\n",
            " 106  E_oop                           243 non-null    float64\n",
            " 107  E_rele                          243 non-null    int64  \n",
            " 108  E_rnb                           243 non-null    float64\n",
            " 109  E_rsol                          243 non-null    float64\n",
            " 110  E_rvdw                          243 non-null    int64  \n",
            " 111  E_sol                           243 non-null    float64\n",
            " 112  E_stb                           243 non-null    float64\n",
            " 113  E_str                           243 non-null    float64\n",
            " 114  E_strain                        243 non-null    float64\n",
            " 115  E_tor                           243 non-null    float64\n",
            " 116  E_vdw                           243 non-null    float64\n",
            " 117  FASA+                           243 non-null    int64  \n",
            " 118  FASA-                           243 non-null    int64  \n",
            " 119  FASA_H                          243 non-null    int64  \n",
            " 120  FASA_P                          243 non-null    int64  \n",
            " 121  FCASA+                          243 non-null    int64  \n",
            " 122  FCASA-                          243 non-null    int64  \n",
            " 123  FCharge                         243 non-null    int64  \n",
            " 124  GCUT_PEOE_0                     243 non-null    float64\n",
            " 125  GCUT_PEOE_1                     243 non-null    float64\n",
            " 126  GCUT_PEOE_2                     243 non-null    float64\n",
            " 127  GCUT_PEOE_3                     243 non-null    float64\n",
            " 128  GCUT_SLOGP_0                    243 non-null    float64\n",
            " 129  GCUT_SLOGP_1                    243 non-null    float64\n",
            " 130  GCUT_SLOGP_2                    243 non-null    float64\n",
            " 131  GCUT_SLOGP_3                    243 non-null    float64\n",
            " 132  GCUT_SMR_0                      243 non-null    float64\n",
            " 133  GCUT_SMR_1                      243 non-null    float64\n",
            " 134  GCUT_SMR_2                      243 non-null    float64\n",
            " 135  GCUT_SMR_3                      243 non-null    float64\n",
            " 136  glob                            243 non-null    float64\n",
            " 137  Kier1                           243 non-null    float64\n",
            " 138  Kier2                           243 non-null    float64\n",
            " 139  Kier3                           243 non-null    float64\n",
            " 140  KierA1                          243 non-null    float64\n",
            " 141  KierA2                          243 non-null    float64\n",
            " 142  KierA3                          243 non-null    float64\n",
            " 143  KierFlex                        243 non-null    float64\n",
            " 144  lip_acc                         243 non-null    int64  \n",
            " 145  lip_don                         243 non-null    int64  \n",
            " 146  lip_druglike                    243 non-null    int64  \n",
            " 147  lip_violation                   243 non-null    int64  \n",
            " 148  logP(o/w)                       243 non-null    float64\n",
            " 149  logS                            243 non-null    float64\n",
            " 150  MNDO_dipole                     243 non-null    float64\n",
            " 151  MNDO_E                          238 non-null    float64\n",
            " 152  MNDO_Eele                       238 non-null    float64\n",
            " 153  MNDO_HF                         238 non-null    float64\n",
            " 154  MNDO_HOMO                       238 non-null    float64\n",
            " 155  MNDO_IP                         238 non-null    float64\n",
            " 156  MNDO_LUMO                       238 non-null    float64\n",
            " 157  mr                              243 non-null    float64\n",
            " 158  mutagenic                       243 non-null    int64  \n",
            " 159  nmol                            243 non-null    int64  \n",
            " 160  npr1                            243 non-null    float64\n",
            " 161  npr2                            243 non-null    float64\n",
            " 162  opr_brigid                      243 non-null    int64  \n",
            " 163  opr_leadlike                    243 non-null    int64  \n",
            " 164  opr_nring                       243 non-null    int64  \n",
            " 165  opr_nrot                        243 non-null    int64  \n",
            " 166  opr_violation                   243 non-null    int64  \n",
            " 167  PC+                             243 non-null    int64  \n",
            " 168  PC-                             243 non-null    int64  \n",
            " 169  PEOE_PC+                        243 non-null    float64\n",
            " 170  PEOE_PC-                        243 non-null    float64\n",
            " 171  PEOE_RPC+                       243 non-null    float64\n",
            " 172  PEOE_RPC-                       243 non-null    float64\n",
            " 173  PEOE_VSA+0                      243 non-null    float64\n",
            " 174  PEOE_VSA+1                      243 non-null    float64\n",
            " 175  PEOE_VSA+2                      243 non-null    float64\n",
            " 176  PEOE_VSA+3                      243 non-null    float64\n",
            " 177  PEOE_VSA+4                      243 non-null    float64\n",
            " 178  PEOE_VSA+5                      243 non-null    float64\n",
            " 179  PEOE_VSA+6                      243 non-null    float64\n",
            " 180  PEOE_VSA-0                      243 non-null    float64\n",
            " 181  PEOE_VSA-1                      243 non-null    float64\n",
            " 182  PEOE_VSA-2                      243 non-null    float64\n",
            " 183  PEOE_VSA-3                      243 non-null    float64\n",
            " 184  PEOE_VSA-4                      243 non-null    float64\n",
            " 185  PEOE_VSA-5                      243 non-null    float64\n",
            " 186  PEOE_VSA-6                      243 non-null    float64\n",
            " 187  PEOE_VSA_FHYD                   243 non-null    float64\n",
            " 188  PEOE_VSA_FNEG                   243 non-null    float64\n",
            " 189  PEOE_VSA_FPNEG                  243 non-null    float64\n",
            " 190  PEOE_VSA_FPOL                   243 non-null    float64\n",
            " 191  PEOE_VSA_FPOS                   243 non-null    float64\n",
            " 192  PEOE_VSA_FPPOS                  243 non-null    float64\n",
            " 193  PEOE_VSA_HYD                    243 non-null    float64\n",
            " 194  PEOE_VSA_NEG                    243 non-null    float64\n",
            " 195  PEOE_VSA_PNEG                   243 non-null    float64\n",
            " 196  PEOE_VSA_POL                    243 non-null    float64\n",
            " 197  PEOE_VSA_POS                    243 non-null    float64\n",
            " 198  PEOE_VSA_PPOS                   243 non-null    float64\n",
            " 199  petitjean                       243 non-null    float64\n",
            " 200  petitjeanSC                     243 non-null    float64\n",
            " 201  PM3_dipole                      243 non-null    float64\n",
            " 202  PM3_E                           243 non-null    float64\n",
            " 203  PM3_Eele                        243 non-null    float64\n",
            " 204  PM3_HF                          243 non-null    float64\n",
            " 205  PM3_HOMO                        243 non-null    float64\n",
            " 206  PM3_IP                          243 non-null    float64\n",
            " 207  PM3_LUMO                        243 non-null    float64\n",
            " 208  pmi                             243 non-null    float64\n",
            " 209  pmi1                            243 non-null    float64\n",
            " 210  pmi2                            243 non-null    float64\n",
            " 211  pmi3                            243 non-null    float64\n",
            " 212  pmiX                            243 non-null    float64\n",
            " 213  pmiY                            243 non-null    float64\n",
            " 214  pmiZ                            243 non-null    float64\n",
            " 215  Q_PC+                           243 non-null    int64  \n",
            " 216  Q_PC-                           243 non-null    int64  \n",
            " 217  Q_RPC+                          243 non-null    int64  \n",
            " 218  Q_RPC-                          243 non-null    int64  \n",
            " 219  Q_VSA_FHYD                      243 non-null    int64  \n",
            " 220  Q_VSA_FNEG                      243 non-null    int64  \n",
            " 221  Q_VSA_FPNEG                     243 non-null    int64  \n",
            " 222  Q_VSA_FPOL                      243 non-null    int64  \n",
            " 223  Q_VSA_FPOS                      243 non-null    int64  \n",
            " 224  Q_VSA_FPPOS                     243 non-null    int64  \n",
            " 225  Q_VSA_HYD                       243 non-null    float64\n",
            " 226  Q_VSA_NEG                       243 non-null    int64  \n",
            " 227  Q_VSA_PNEG                      243 non-null    int64  \n",
            " 228  Q_VSA_POL                       243 non-null    int64  \n",
            " 229  Q_VSA_POS                       243 non-null    float64\n",
            " 230  Q_VSA_PPOS                      243 non-null    int64  \n",
            " 231  radius                          243 non-null    int64  \n",
            " 232  reactive                        243 non-null    int64  \n",
            " 233  rgyr                            243 non-null    float64\n",
            " 234  rings                           243 non-null    int64  \n",
            " 235  RPC+                            243 non-null    int64  \n",
            " 236  RPC-                            243 non-null    int64  \n",
            " 237  rsynth                          243 non-null    float64\n",
            " 238  SlogP                           243 non-null    float64\n",
            " 239  SlogP_VSA0                      243 non-null    float64\n",
            " 240  SlogP_VSA1                      243 non-null    float64\n",
            " 241  SlogP_VSA2                      243 non-null    float64\n",
            " 242  SlogP_VSA3                      243 non-null    float64\n",
            " 243  SlogP_VSA4                      243 non-null    float64\n",
            " 244  SlogP_VSA5                      243 non-null    float64\n",
            " 245  SlogP_VSA6                      243 non-null    float64\n",
            " 246  SlogP_VSA7                      243 non-null    float64\n",
            " 247  SlogP_VSA8                      243 non-null    float64\n",
            " 248  SlogP_VSA9                      243 non-null    float64\n",
            " 249  SMR                             243 non-null    float64\n",
            " 250  SMR_VSA0                        243 non-null    float64\n",
            " 251  SMR_VSA1                        243 non-null    float64\n",
            " 252  SMR_VSA2                        243 non-null    float64\n",
            " 253  SMR_VSA3                        243 non-null    float64\n",
            " 254  SMR_VSA4                        243 non-null    float64\n",
            " 255  SMR_VSA5                        243 non-null    float64\n",
            " 256  SMR_VSA6                        243 non-null    float64\n",
            " 257  SMR_VSA7                        243 non-null    float64\n",
            " 258  std_dim1                        243 non-null    float64\n",
            " 259  std_dim2                        243 non-null    float64\n",
            " 260  std_dim3                        243 non-null    float64\n",
            " 261  TPSA                            243 non-null    float64\n",
            " 262  VAdjEq                          243 non-null    float64\n",
            " 263  VAdjMa                          243 non-null    float64\n",
            " 264  VDistEq                         243 non-null    float64\n",
            " 265  VDistMa                         243 non-null    float64\n",
            " 266  vdw_area                        243 non-null    float64\n",
            " 267  vdw_vol                         243 non-null    float64\n",
            " 268  vol                             243 non-null    float64\n",
            " 269  VSA                             243 non-null    float64\n",
            " 270  vsa_acc                         243 non-null    float64\n",
            " 271  vsa_acid                        243 non-null    float64\n",
            " 272  vsa_base                        243 non-null    float64\n",
            " 273  vsa_don                         243 non-null    float64\n",
            " 274  vsa_hyd                         243 non-null    float64\n",
            " 275  vsa_other                       243 non-null    float64\n",
            " 276  vsa_pol                         243 non-null    float64\n",
            " 277  vsurf_A                         243 non-null    float64\n",
            " 278  vsurf_CP                        243 non-null    float64\n",
            " 279  vsurf_CW1                       243 non-null    float64\n",
            " 280  vsurf_CW2                       243 non-null    float64\n",
            " 281  vsurf_CW3                       243 non-null    float64\n",
            " 282  vsurf_CW4                       243 non-null    float64\n",
            " 283  vsurf_CW5                       243 non-null    float64\n",
            " 284  vsurf_CW6                       243 non-null    float64\n",
            " 285  vsurf_CW7                       243 non-null    float64\n",
            " 286  vsurf_CW8                       243 non-null    float64\n",
            " 287  vsurf_D1                        243 non-null    float64\n",
            " 288  vsurf_D2                        243 non-null    float64\n",
            " 289  vsurf_D3                        243 non-null    float64\n",
            " 290  vsurf_D4                        243 non-null    float64\n",
            " 291  vsurf_D5                        243 non-null    float64\n",
            " 292  vsurf_D6                        243 non-null    float64\n",
            " 293  vsurf_D7                        243 non-null    float64\n",
            " 294  vsurf_D8                        243 non-null    float64\n",
            " 295  vsurf_DD12                      243 non-null    float64\n",
            " 296  vsurf_DD13                      243 non-null    float64\n",
            " 297  vsurf_DD23                      243 non-null    float64\n",
            " 298  vsurf_DW12                      243 non-null    float64\n",
            " 299  vsurf_DW13                      243 non-null    float64\n",
            " 300  vsurf_DW23                      243 non-null    float64\n",
            " 301  vsurf_EDmin1                    243 non-null    float64\n",
            " 302  vsurf_EDmin2                    243 non-null    float64\n",
            " 303  vsurf_EDmin3                    243 non-null    float64\n",
            " 304  vsurf_EWmin1                    243 non-null    float64\n",
            " 305  vsurf_EWmin2                    243 non-null    float64\n",
            " 306  vsurf_EWmin3                    243 non-null    float64\n",
            " 307  vsurf_G                         243 non-null    float64\n",
            " 308  vsurf_HB1                       243 non-null    float64\n",
            " 309  vsurf_HB2                       243 non-null    float64\n",
            " 310  vsurf_HB3                       243 non-null    float64\n",
            " 311  vsurf_HB4                       243 non-null    float64\n",
            " 312  vsurf_HB5                       243 non-null    float64\n",
            " 313  vsurf_HB6                       243 non-null    float64\n",
            " 314  vsurf_HB7                       243 non-null    float64\n",
            " 315  vsurf_HB8                       243 non-null    float64\n",
            " 316  vsurf_HL1                       243 non-null    float64\n",
            " 317  vsurf_HL2                       243 non-null    float64\n",
            " 318  vsurf_ID1                       243 non-null    float64\n",
            " 319  vsurf_ID2                       243 non-null    float64\n",
            " 320  vsurf_ID3                       243 non-null    float64\n",
            " 321  vsurf_ID4                       243 non-null    float64\n",
            " 322  vsurf_ID5                       243 non-null    float64\n",
            " 323  vsurf_ID6                       243 non-null    float64\n",
            " 324  vsurf_ID7                       243 non-null    float64\n",
            " 325  vsurf_ID8                       243 non-null    float64\n",
            " 326  vsurf_IW1                       243 non-null    float64\n",
            " 327  vsurf_IW2                       243 non-null    float64\n",
            " 328  vsurf_IW3                       243 non-null    float64\n",
            " 329  vsurf_IW4                       243 non-null    float64\n",
            " 330  vsurf_IW5                       243 non-null    float64\n",
            " 331  vsurf_IW6                       243 non-null    float64\n",
            " 332  vsurf_IW7                       243 non-null    float64\n",
            " 333  vsurf_IW8                       243 non-null    float64\n",
            " 334  vsurf_R                         243 non-null    float64\n",
            " 335  vsurf_S                         243 non-null    float64\n",
            " 336  vsurf_V                         243 non-null    float64\n",
            " 337  vsurf_W1                        243 non-null    float64\n",
            " 338  vsurf_W2                        243 non-null    float64\n",
            " 339  vsurf_W3                        243 non-null    float64\n",
            " 340  vsurf_W4                        243 non-null    float64\n",
            " 341  vsurf_W5                        243 non-null    float64\n",
            " 342  vsurf_W6                        243 non-null    float64\n",
            " 343  vsurf_W7                        243 non-null    float64\n",
            " 344  vsurf_W8                        243 non-null    float64\n",
            " 345  vsurf_Wp1                       243 non-null    float64\n",
            " 346  vsurf_Wp2                       243 non-null    float64\n",
            " 347  vsurf_Wp3                       243 non-null    float64\n",
            " 348  vsurf_Wp4                       243 non-null    float64\n",
            " 349  vsurf_Wp5                       243 non-null    float64\n",
            " 350  vsurf_Wp6                       243 non-null    float64\n",
            " 351  vsurf_Wp7                       243 non-null    float64\n",
            " 352  vsurf_Wp8                       243 non-null    float64\n",
            " 353  Weight                          243 non-null    float64\n",
            " 354  weinerPath                      243 non-null    int64  \n",
            " 355  weinerPol                       243 non-null    int64  \n",
            " 356  zagreb                          243 non-null    int64  \n",
            "dtypes: float64(254), int64(102), object(1)\n",
            "memory usage: 677.9+ KB\n"
          ]
        }
      ],
      "source": [
        "# Display information about the dataset\n",
        "compounds.info(verbose=True, show_counts=True)"
      ]
    },
    {
      "cell_type": "code",
      "execution_count": null,
      "metadata": {
        "id": "snZA_xenz1AK"
      },
      "outputs": [],
      "source": [
        "# Remove columns with a single unique value\n",
        "for col in compounds.columns:\n",
        "  if compounds[col].nunique() == 1:\n",
        "    compounds = compounds.drop(col, axis=1)"
      ]
    },
    {
      "cell_type": "code",
      "execution_count": null,
      "metadata": {
        "colab": {
          "base_uri": "https://localhost:8080/"
        },
        "id": "At8ZGkwE0s1n",
        "outputId": "cb7c876a-f012-4fa7-97d5-7994754d1fb0"
      },
      "outputs": [
        {
          "name": "stdout",
          "output_type": "stream",
          "text": [
            "<class 'pandas.core.frame.DataFrame'>\n",
            "RangeIndex: 243 entries, 0 to 242\n",
            "Columns: 313 entries, CID to zagreb\n",
            "dtypes: float64(254), int64(59)\n",
            "memory usage: 594.3 KB\n"
          ]
        }
      ],
      "source": [
        "# Display information after removing constant columns\n",
        "compounds.info()"
      ]
    },
    {
      "cell_type": "code",
      "execution_count": null,
      "metadata": {
        "colab": {
          "base_uri": "https://localhost:8080/"
        },
        "id": "7jhV2_OnZJvd",
        "outputId": "c7d75c31-0955-4ad4-e0fb-0bfa4deff3d8"
      },
      "outputs": [
        {
          "data": {
            "text/plain": [
              "Index(['MNDO_E', 'MNDO_Eele', 'MNDO_HF', 'MNDO_HOMO', 'MNDO_IP', 'MNDO_LUMO'], dtype='object')"
            ]
          },
          "execution_count": 9,
          "metadata": {},
          "output_type": "execute_result"
        }
      ],
      "source": [
        "# Display columns with missing values\n",
        "compounds.columns[compounds.isna().any()]"
      ]
    },
    {
      "cell_type": "markdown",
      "metadata": {
        "id": "QyQG8lwWrmxU"
      },
      "source": [
        "## Splitting Data into Training and Test Sets"
      ]
    },
    {
      "cell_type": "code",
      "execution_count": null,
      "metadata": {
        "id": "PijfKybuuF_2"
      },
      "outputs": [],
      "source": [
        "# Split the data into training and testing sets\n",
        "from sklearn.model_selection import train_test_split\n",
        "\n",
        "X = compounds.drop(['CID', 'Class'], axis=1)\n",
        "y = compounds['Class']\n",
        "\n",
        "X_train, X_test, y_train, y_test = train_test_split(X, y, test_size=0.2, stratify=y, shuffle=True, random_state=42)"
      ]
    },
    {
      "cell_type": "code",
      "execution_count": null,
      "metadata": {
        "colab": {
          "base_uri": "https://localhost:8080/"
        },
        "id": "o0i951r2rq95",
        "outputId": "3a7ca70d-b475-49f9-912d-e49dd14fa36a"
      },
      "outputs": [
        {
          "name": "stdout",
          "output_type": "stream",
          "text": [
            "(194, 311)\n",
            "(49, 311)\n"
          ]
        }
      ],
      "source": [
        "print(X_train.shape)\n",
        "print(X_test.shape)"
      ]
    },
    {
      "cell_type": "code",
      "execution_count": null,
      "metadata": {
        "colab": {
          "base_uri": "https://localhost:8080/"
        },
        "id": "zBLJrsDXr-di",
        "outputId": "a82d9ce5-ec5e-4f11-b654-4367d0ee814d"
      },
      "outputs": [
        {
          "data": {
            "text/plain": [
              "1    137\n",
              "0     57\n",
              "Name: Class, dtype: int64"
            ]
          },
          "execution_count": 12,
          "metadata": {},
          "output_type": "execute_result"
        }
      ],
      "source": [
        "y_train.value_counts()"
      ]
    },
    {
      "cell_type": "code",
      "execution_count": null,
      "metadata": {
        "colab": {
          "base_uri": "https://localhost:8080/"
        },
        "id": "ZFtOjJ87sW-W",
        "outputId": "887fa27f-4820-432f-db57-7f86d4fe6b73"
      },
      "outputs": [
        {
          "data": {
            "text/plain": [
              "1    34\n",
              "0    15\n",
              "Name: Class, dtype: int64"
            ]
          },
          "execution_count": 13,
          "metadata": {},
          "output_type": "execute_result"
        }
      ],
      "source": [
        "y_test.value_counts()"
      ]
    },
    {
      "cell_type": "markdown",
      "metadata": {
        "id": "g-Y_4UEjr13A"
      },
      "source": [
        "## Pre-Processing"
      ]
    },
    {
      "cell_type": "code",
      "execution_count": null,
      "metadata": {
        "id": "p0c2WgBftGx3"
      },
      "outputs": [],
      "source": [
        "# Preprocessing pipeline\n",
        "from sklearn.pipeline import Pipeline\n",
        "from sklearn.impute import SimpleImputer\n",
        "from sklearn.preprocessing import StandardScaler\n",
        "from sklearn.feature_selection import SelectKBest, f_classif"
      ]
    },
    {
      "cell_type": "code",
      "execution_count": null,
      "metadata": {
        "id": "SR3pXmnvuUYP"
      },
      "outputs": [],
      "source": [
        "# Create a pipeline with imputation, scaling, and feature selection\n",
        "pipe = Pipeline([\n",
        "    ('imputer', SimpleImputer(strategy='median')), # replace missing values\n",
        "    ('scaler', StandardScaler()), # scaling step\n",
        "    ('kbest', SelectKBest(f_classif, k=20)) # select top 20 features\n",
        "])\n",
        "\n",
        "# Transform the training and test data\n",
        "X_train_transformed = pipe.fit_transform(X_train, y_train)\n",
        "X_test_transformed = pipe.transform(X_test)"
      ]
    },
    {
      "cell_type": "code",
      "execution_count": null,
      "metadata": {
        "colab": {
          "base_uri": "https://localhost:8080/"
        },
        "id": "05WvJkvu4OEv",
        "outputId": "4606c08f-9f44-4f69-872a-b22bd9208df2"
      },
      "outputs": [
        {
          "data": {
            "text/plain": [
              "Index(['a_nO', 'BCUT_PEOE_3', 'BCUT_SMR_3', 'b_max1len', 'GCUT_PEOE_0',\n",
              "       'GCUT_PEOE_1', 'GCUT_PEOE_3', 'GCUT_SMR_3', 'lip_don', 'logS',\n",
              "       'MNDO_HF', 'MNDO_LUMO', 'PEOE_VSA-4', 'PEOE_VSA_NEG', 'PEOE_VSA_POL',\n",
              "       'SlogP_VSA0', 'SlogP_VSA5', 'SMR_VSA3', 'vsa_other', 'vsa_pol'],\n",
              "      dtype='object')"
            ]
          },
          "execution_count": 16,
          "metadata": {},
          "output_type": "execute_result"
        }
      ],
      "source": [
        "# Get the names of the selected columns\n",
        "selected_columns_mask = pipe.named_steps['kbest'].get_support()\n",
        "selected_column_names = X_train.columns[selected_columns_mask]\n",
        "\n",
        "selected_column_names"
      ]
    },
    {
      "cell_type": "markdown",
      "metadata": {
        "id": "qmloXSOar4Xp"
      },
      "source": [
        "## Run SVM and Model Evaluation"
      ]
    },
    {
      "cell_type": "code",
      "execution_count": null,
      "metadata": {
        "id": "L8dEdJGRu8ik"
      },
      "outputs": [],
      "source": [
        "# Model training and evaluation\n",
        "from sklearn.metrics import accuracy_score, classification_report, confusion_matrix, roc_auc_score, roc_curve\n",
        "from sklearn.model_selection import cross_val_score\n",
        "from sklearn.svm import SVC\n",
        "\n",
        "svc = SVC(kernel='linear')"
      ]
    },
    {
      "cell_type": "code",
      "execution_count": null,
      "metadata": {
        "id": "bpERt49BxYOV"
      },
      "outputs": [],
      "source": [
        "# Function to display cross-validation scores\n",
        "def display_scores(scores):\n",
        "    print('Scores:', scores)\n",
        "    print('Mean:', scores.mean())\n",
        "    print('Standard deviation:', scores.std())"
      ]
    },
    {
      "cell_type": "code",
      "execution_count": null,
      "metadata": {
        "colab": {
          "base_uri": "https://localhost:8080/"
        },
        "id": "8cN-Q5vuxczV",
        "outputId": "32dcf961-79d7-49b6-9b98-588b29b048cd"
      },
      "outputs": [
        {
          "name": "stdout",
          "output_type": "stream",
          "text": [
            "Scores: [0.9        1.         0.95       0.9        0.94736842 1.\n",
            " 0.94736842 0.78947368 1.         1.        ]\n",
            "Mean: 0.9434210526315789\n",
            "Standard deviation: 0.06352143180981498\n"
          ]
        }
      ],
      "source": [
        "# Cross-validation scores\n",
        "scores_svc = cross_val_score(svc, X_train_transformed, y_train, scoring='accuracy', cv=10)\n",
        "display_scores(scores_svc)"
      ]
    },
    {
      "cell_type": "code",
      "execution_count": null,
      "metadata": {
        "id": "q5OVKyQbyOP7"
      },
      "outputs": [],
      "source": [
        "# Fit the model on the training data\n",
        "svc.fit(X_train_transformed, y_train)\n",
        "\n",
        "# Make predictions on the test data\n",
        "y_pred = svc.predict(X_test_transformed)"
      ]
    },
    {
      "cell_type": "code",
      "execution_count": null,
      "metadata": {
        "id": "M_zb34rLyT0s"
      },
      "outputs": [],
      "source": [
        "# Display confusion matrix\n",
        "cm = confusion_matrix(y_test, y_pred)\n",
        "print('Confusion Matrix:')\n",
        "print(cm)\n",
        "\n",
        "print('\\nTrue Positives (TP) = ', cm[1 ,1])\n",
        "\n",
        "print('\\nTrue Negatives (TN) = ', cm[0, 0])\n",
        "\n",
        "print('\\nFalse Positives (FP) = ', cm[0, 1])\n",
        "\n",
        "print('\\nFalse Negatives (FN) = ', cm[1, 0])"
      ]
    },
    {
      "cell_type": "code",
      "execution_count": null,
      "metadata": {
        "colab": {
          "base_uri": "https://localhost:8080/",
          "height": 452
        },
        "id": "T3TsQm2FD1Sa",
        "outputId": "73add4a4-1b57-496e-f24b-30e85c1619ce"
      },
      "outputs": [
        {
          "data": {
            "image/png": "[encoded data removed]",
            "text/plain": [
              "<Figure size 640x480 with 2 Axes>"
            ]
          },
          "metadata": {},
          "output_type": "display_data"
        }
      ],
      "source": [
        "# Display the heapmap\n",
        "cm_matrix = pd.DataFrame(data=cm,\n",
        "                         columns=['Predict Negative: 0', 'Predict Positive: 1'],\n",
        "                         index=['Actual Negative: 0', 'Actual Positive: 1'])\n",
        "\n",
        "sns.heatmap(cm_matrix, annot=True, fmt='d', cmap='YlGnBu')\n",
        "plt.title('Confusion Matrix Heatmap')\n",
        "\n",
        "from google.colab import files\n",
        "plt.savefig('heatmap.png')"
      ]
    },
    {
      "cell_type": "code",
      "execution_count": null,
      "metadata": {
        "colab": {
          "base_uri": "https://localhost:8080/"
        },
        "id": "R64ODV_vwA3l",
        "outputId": "9f71101f-1d47-4be5-e118-59213f22a771"
      },
      "outputs": [
        {
          "name": "stdout",
          "output_type": "stream",
          "text": [
            "Accuracy: 0.98\n"
          ]
        }
      ],
      "source": [
        "# Calculate and display accuracy\n",
        "accuracy = accuracy_score(y_test, y_pred)\n",
        "print(f'Accuracy: {accuracy:.2f}')"
      ]
    },
    {
      "cell_type": "code",
      "execution_count": null,
      "metadata": {
        "colab": {
          "base_uri": "https://localhost:8080/"
        },
        "id": "euxBtbmyvFPW",
        "outputId": "2c7174b7-04f4-4228-ba77-3589a1ee0ee0"
      },
      "outputs": [
        {
          "name": "stdout",
          "output_type": "stream",
          "text": [
            "Classification Report:\n",
            "              precision    recall  f1-score   support\n",
            "\n",
            "           0       1.00      0.93      0.97        15\n",
            "           1       0.97      1.00      0.99        34\n",
            "\n",
            "    accuracy                           0.98        49\n",
            "   macro avg       0.99      0.97      0.98        49\n",
            "weighted avg       0.98      0.98      0.98        49\n",
            "\n"
          ]
        }
      ],
      "source": [
        "# Display classification report\n",
        "print('Classification Report:')\n",
        "print(classification_report(y_test, y_pred))"
      ]
    },
    {
      "cell_type": "code",
      "execution_count": null,
      "metadata": {
        "colab": {
          "base_uri": "https://localhost:8080/",
          "height": 410
        },
        "id": "AgXFs3-FF7BY",
        "outputId": "1479daf7-916f-4a8e-b06a-01d8258cd231"
      },
      "outputs": [
        {
          "data": {
            "image/png": "[encoded data removed]",
            "text/plain": [
              "<Figure size 600x400 with 1 Axes>"
            ]
          },
          "metadata": {},
          "output_type": "display_data"
        }
      ],
      "source": [
        "# Compute the ROC curve\n",
        "fpr, tpr, thresholds = roc_curve(y_test, y_pred)\n",
        "\n",
        "# Plot the ROC curve\n",
        "plt.figure(figsize=(6, 4))\n",
        "plt.plot(fpr, tpr, linewidth=2, label='ROC')\n",
        "plt.plot([0, 1], [0, 1], color='red', lw=2, linestyle='--', label='Random Guess')\n",
        "plt.legend(loc='lower right')\n",
        "plt.xlabel('False Positive Rate (1 - Specificity)')\n",
        "plt.ylabel('True Positive Rate (Sensitivity)')\n",
        "plt.title('ROC Curve');"
      ]
    },
    {
      "cell_type": "code",
      "execution_count": null,
      "metadata": {
        "colab": {
          "base_uri": "https://localhost:8080/"
        },
        "id": "48fXzsGF3iYh",
        "outputId": "cc7209aa-8dea-4078-c287-6919263e0a87"
      },
      "outputs": [
        {
          "name": "stdout",
          "output_type": "stream",
          "text": [
            "ROC AUC: 0.9667\n"
          ]
        }
      ],
      "source": [
        "# Compute the ROC AUC\n",
        "# Receiver Operating Characteristic - Area Under Curve\n",
        "roc_auc = roc_auc_score(y_test, y_pred)\n",
        "print(f'ROC AUC: {roc_auc:.4f}')"
      ]
    }
  ],
  "metadata": {
    "colab": {
      "include_colab_link": true,
      "provenance": []
    },
    "kernelspec": {
      "display_name": "Python 3",
      "name": "python3"
    },
    "language_info": {
      "name": "python"
    }
  },
  "nbformat": 4,
  "nbformat_minor": 0
}
