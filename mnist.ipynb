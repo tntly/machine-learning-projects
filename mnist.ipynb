{
  "nbformat": 4,
  "nbformat_minor": 0,
  "metadata": {
    "colab": {
      "provenance": [],
      "authorship_tag": "ABX9TyP0/ZSwPFkMZJB8IrZZXbNu",
      "include_colab_link": true
    },
    "kernelspec": {
      "name": "python3",
      "display_name": "Python 3"
    },
    "language_info": {
      "name": "python"
    }
  },
  "cells": [
    {
      "cell_type": "markdown",
      "metadata": {
        "id": "view-in-github",
        "colab_type": "text"
      },
      "source": [
        "<a href=\"https://colab.research.google.com/github/tntly/ml-projects/blob/main/mnist.ipynb\" target=\"_parent\"><img src=\"https://colab.research.google.com/assets/colab-badge.svg\" alt=\"Open In Colab\"/></a>"
      ]
    },
    {
      "cell_type": "markdown",
      "source": [
        "# Handwritten Digit Classification with MNIST\n",
        "\n",
        "This notebook demonstrates a simple implementation of a neural network for handwritten digit classification using the MNIST dataset. It was created as part of my coursework for CS 271: Topics in Machine Learning at San Jose State University.\n",
        "\n",
        "The MNIST dataset is a widely used benchmark in the field of computer vision, containing 70,000 grayscale images of handwritten digits (0-9), each with a resolution of 28x28 pixels. In this example, I follow a standard pipeline for training a classifier using TensorFlow, which includes:\n",
        "\n",
        "* Loading and preprocessing the MNIST dataset\n",
        "* Building and training a neural network model\n",
        "* Evaluating the model's performance\n",
        "\n",
        "This notebook serves as a foundational exercise in deep learning and provides insights into image classification using neural networks."
      ],
      "metadata": {
        "id": "hf0fbxsh8_Ce"
      }
    },
    {
      "cell_type": "code",
      "source": [
        "import numpy as np\n",
        "import tensorflow as tf\n",
        "import tensorflow_datasets as tfds"
      ],
      "metadata": {
        "id": "W3eO4I5hrWvN"
      },
      "execution_count": null,
      "outputs": []
    },
    {
      "cell_type": "code",
      "source": [
        "# Load the data\n",
        "mnist_dataset, mnist_info = tfds.load(name='mnist', with_info=True, as_supervised=True)\n",
        "# mnist_dataset is a dictionary with two key-value pairs: 'train' and 'test'\n",
        "mnist_train, mnist_test = mnist_dataset['train'], mnist_dataset['test']"
      ],
      "metadata": {
        "id": "TyCNrlKksouI"
      },
      "execution_count": null,
      "outputs": []
    },
    {
      "cell_type": "code",
      "source": [
        "# Define the number of validation samples as a percentage of the training data\n",
        "num_validation_samples = 0.1 * mnist_info.splits['train'].num_examples\n",
        "# Cast the number of validation samples to an integer\n",
        "num_validation_samples = tf.cast(num_validation_samples, tf.int64)\n",
        "\n",
        "# Define the number of test samples\n",
        "num_test_samples = mnist_info.splits['test'].num_examples\n",
        "num_test_samples = tf.cast(num_test_samples, tf.int64)"
      ],
      "metadata": {
        "id": "SxDXOGvbsA9v"
      },
      "execution_count": null,
      "outputs": []
    },
    {
      "cell_type": "code",
      "source": [
        "# Define a function that scales the images\n",
        "def scale(image, label):\n",
        "    image = tf.cast(image, tf.float32)\n",
        "    image /= 255.\n",
        "    return image, label\n",
        "\n",
        "# Apply the scale function to the data\n",
        "scaled_train_and_validation_data = mnist_train.map(scale)\n",
        "test_data = mnist_test.map(scale)"
      ],
      "metadata": {
        "id": "-swKkZTCsLkS"
      },
      "execution_count": null,
      "outputs": []
    },
    {
      "cell_type": "code",
      "source": [
        "BUFFER_SIZE = 10000\n",
        "# Shuffle the data\n",
        "shuffled_train_and_validation_data = scaled_train_and_validation_data.shuffle(BUFFER_SIZE)\n",
        "\n",
        "# Extract the validation and train data\n",
        "validation_data = shuffled_train_and_validation_data.take(num_validation_samples)\n",
        "train_data = shuffled_train_and_validation_data.skip(num_validation_samples)"
      ],
      "metadata": {
        "id": "YmhncC4huC8N"
      },
      "execution_count": null,
      "outputs": []
    },
    {
      "cell_type": "code",
      "source": [
        "BATCH_SIZE = 100\n",
        "# Batch the data\n",
        "train_data = train_data.batch(BATCH_SIZE)\n",
        "validation_data = validation_data.batch(num_validation_samples)\n",
        "test_data = test_data.batch(num_test_samples)"
      ],
      "metadata": {
        "id": "UwhMyvqKu_mS"
      },
      "execution_count": null,
      "outputs": []
    },
    {
      "cell_type": "code",
      "source": [
        "# Define the model\n",
        "input_size = 784\n",
        "output_size = 10\n",
        "hidden_layer_size = 50\n",
        "model = tf.keras.Sequential([\n",
        "    tf.keras.layers.Flatten(input_shape=(28, 28, 1)), # input layer\n",
        "\n",
        "    tf.keras.layers.Dense(hidden_layer_size, activation='relu'), # 1st hidden layer\n",
        "    tf.keras.layers.Dense(hidden_layer_size, activation='relu'), # 2nd hidden layer\n",
        "\n",
        "    tf.keras.layers.Dense(output_size, activation='softmax') # output layer\n",
        "])\n",
        "\n",
        "# Define the optimizer and the loss function\n",
        "model.compile(optimizer='adam', loss='sparse_categorical_crossentropy', metrics=['accuracy'])"
      ],
      "metadata": {
        "id": "rFjLLTc3wXPg"
      },
      "execution_count": null,
      "outputs": []
    },
    {
      "cell_type": "code",
      "source": [
        "# Define the number of epochs\n",
        "NUM_EPOCHS = 5\n",
        "# Train the model\n",
        "model.fit(train_data, epochs=NUM_EPOCHS, validation_data=validation_data, verbose=2)"
      ],
      "metadata": {
        "colab": {
          "base_uri": "https://localhost:8080/"
        },
        "id": "bJHQqN9ExmOz",
        "outputId": "b5a5cd8c-abc5-40ba-e63c-a87106fc2781"
      },
      "execution_count": null,
      "outputs": [
        {
          "output_type": "stream",
          "name": "stdout",
          "text": [
            "Epoch 1/5\n",
            "540/540 - 9s - 16ms/step - accuracy: 0.8899 - loss: 0.3935 - val_accuracy: 0.9437 - val_loss: 0.2047\n",
            "Epoch 2/5\n",
            "540/540 - 4s - 7ms/step - accuracy: 0.9490 - loss: 0.1755 - val_accuracy: 0.9573 - val_loss: 0.1483\n",
            "Epoch 3/5\n",
            "540/540 - 4s - 7ms/step - accuracy: 0.9613 - loss: 0.1335 - val_accuracy: 0.9650 - val_loss: 0.1158\n",
            "Epoch 4/5\n",
            "540/540 - 5s - 9ms/step - accuracy: 0.9682 - loss: 0.1069 - val_accuracy: 0.9712 - val_loss: 0.1011\n",
            "Epoch 5/5\n",
            "540/540 - 4s - 7ms/step - accuracy: 0.9728 - loss: 0.0904 - val_accuracy: 0.9682 - val_loss: 0.1052\n"
          ]
        },
        {
          "output_type": "execute_result",
          "data": {
            "text/plain": [
              "<keras.src.callbacks.history.History at 0x7d8095ea93d0>"
            ]
          },
          "metadata": {},
          "execution_count": 73
        }
      ]
    },
    {
      "cell_type": "code",
      "source": [
        "# Evaluate the model\n",
        "test_loss, test_accuracy = model.evaluate(test_data)\n",
        "print('Test loss: {0:.2f}. Test accuracy: {1:.2f}%'.format(test_loss, test_accuracy*100.))"
      ],
      "metadata": {
        "colab": {
          "base_uri": "https://localhost:8080/"
        },
        "id": "AR3rDFJh3Meg",
        "outputId": "388abf0a-479f-455d-aea7-5278ea5e7956"
      },
      "execution_count": null,
      "outputs": [
        {
          "output_type": "stream",
          "name": "stdout",
          "text": [
            "\u001b[1m1/1\u001b[0m \u001b[32m━━━━━━━━━━━━━━━━━━━━\u001b[0m\u001b[37m\u001b[0m \u001b[1m1s\u001b[0m 926ms/step - accuracy: 0.9667 - loss: 0.1062\n",
            "Test loss: 0.11. Test accuracy: 96.67%\n"
          ]
        }
      ]
    }
  ]
}